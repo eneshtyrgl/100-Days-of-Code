{
 "cells": [
  {
   "cell_type": "code",
   "execution_count": null,
   "metadata": {},
   "outputs": [],
   "source": [
    "# Aliasing Modules \n",
    "\n",
    "import turtle as t\n",
    "\n",
    "my_turtle = t.Turtle()\n",
    "\n",
    "screen = t.Screen()\n",
    "screen.exitonclick()"
   ]
  },
  {
   "cell_type": "code",
   "execution_count": 3,
   "metadata": {},
   "outputs": [],
   "source": [
    "# Draw a Square\n",
    "\n",
    "from turtle import Turtle, Screen\n",
    "\n",
    "my_object = Turtle()\n",
    "for i in range (4):\n",
    "    my_object.forward(100)\n",
    "    my_object.right(90)\n",
    "\n",
    "screen = Screen()\n",
    "screen.exitonclick()"
   ]
  },
  {
   "cell_type": "code",
   "execution_count": null,
   "metadata": {},
   "outputs": [],
   "source": [
    "# Draw a Dashed Line\n",
    "from turtle import Turtle, Screen\n",
    "\n",
    "my_object = Turtle()\n",
    "for i in range (15):\n",
    "    my_object.pendown()\n",
    "    my_object.forward(10)\n",
    "    my_object.penup()\n",
    "    my_object.forward(10)\n"
   ]
  },
  {
   "cell_type": "code",
   "execution_count": 1,
   "metadata": {},
   "outputs": [],
   "source": [
    "# Draw a Dashed Line\n",
    "\n",
    "from turtle import Turtle, Screen\n",
    "import random\n",
    "\n",
    "my_object = Turtle()\n",
    "colours = [\"CornflowerBlue\", \"DarkOrchid\", \"dark orange\", \"DeepSkyBlue\", \"LightSeaGreen\", \"crimson\", \"plum\", \"pale green\", \"gold\"]\n",
    "\n",
    "def draw_shape(side):\n",
    "    angle = (360 / side) \n",
    "    for i in range (side):\n",
    "        my_object.right(angle)\n",
    "        my_object.forward(100)\n",
    "    \n",
    "for n in range (3,11):\n",
    "    my_object.color(random.choice(colours))\n",
    "    draw_shape(n)\n",
    "\n",
    "screen = Screen()\n",
    "screen.exitonclick()"
   ]
  },
  {
   "cell_type": "code",
   "execution_count": null,
   "metadata": {},
   "outputs": [],
   "source": [
    "# Draw a Random Walk\n",
    "\n",
    "from turtle import Turtle, Screen\n",
    "import random\n",
    "\n",
    "my_object = Turtle()\n",
    "colours = [\"CornflowerBlue\", \"DarkOrchid\", \"dark orange\", \"DeepSkyBlue\", \"LightSeaGreen\", \"crimson\", \"plum\", \"pale green\", \"gold\"]\n",
    "angles = [0, 90, 180, 270]\n",
    "my_object.pensize(15)\n",
    "my_object.speed(10)\n",
    "\n",
    "for i in range (250):\n",
    "    my_object.color(random.choice(colours))\n",
    "    my_object.setheading(random.choice(angles))\n",
    "    my_object.forward(30)\n",
    "\n",
    "screen = Screen()\n",
    "screen.exitonclick()"
   ]
  },
  {
   "cell_type": "code",
   "execution_count": null,
   "metadata": {},
   "outputs": [],
   "source": [
    "# Generate Random RGB Colors with Tuples\n",
    "\n",
    "import turtle\n",
    "import random\n",
    "\n",
    "my_object = turtle.Turtle()\n",
    "turtle.colormode(255)\n",
    "angles = [0, 90, 180, 270]\n",
    "\n",
    "def random_color():\n",
    "    r = random.randint(0,255)\n",
    "    g = random.randint(0,255)\n",
    "    b = random.randint(0,255)\n",
    "    my_tuple= (r, g, b)\n",
    "    return my_tuple\n",
    "\n",
    "my_object.pensize(15)\n",
    "my_object.speed(0)\n",
    "\n",
    "for i in range (300):\n",
    "    my_object.color(random_color())\n",
    "    my_object.setheading(random.choice(angles))\n",
    "    my_object.forward(30)\n",
    "\n",
    "screen = turtle.Screen()\n",
    "screen.exitonclick()"
   ]
  },
  {
   "cell_type": "code",
   "execution_count": null,
   "metadata": {},
   "outputs": [],
   "source": [
    "# Draw a Spirograph\n",
    "\n",
    "import turtle\n",
    "import random\n",
    "\n",
    "my_object = turtle.Turtle()\n",
    "my_object.pensize(2)\n",
    "my_object.speed(0)\n",
    "turtle.colormode(255)\n",
    "\n",
    "def random_color():\n",
    "    r = random.randint(0,255)\n",
    "    g = random.randint(0,255)\n",
    "    b = random.randint(0,255)\n",
    "    my_tuple= (r, g, b)\n",
    "    return my_tuple\n",
    "\n",
    "def draw_spirograph(size_of_gap):\n",
    "    for i in range(int(360 / size_of_gap)):\n",
    "        my_object.color(random_color())\n",
    "        my_object.circle(100)\n",
    "        my_object.setheading(my_object.heading()+ size_of_gap) \n",
    "\n",
    "draw_spirograph(10)\n",
    "\n",
    "screen = turtle.Screen()\n",
    "screen.exitonclick()"
   ]
  }
 ],
 "metadata": {
  "kernelspec": {
   "display_name": "Python 3",
   "language": "python",
   "name": "python3"
  },
  "language_info": {
   "codemirror_mode": {
    "name": "ipython",
    "version": 3
   },
   "file_extension": ".py",
   "mimetype": "text/x-python",
   "name": "python",
   "nbconvert_exporter": "python",
   "pygments_lexer": "ipython3",
   "version": "3.11.3"
  },
  "orig_nbformat": 4
 },
 "nbformat": 4,
 "nbformat_minor": 2
}
