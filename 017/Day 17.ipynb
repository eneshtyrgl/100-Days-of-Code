{
 "cells": [
  {
   "cell_type": "code",
   "execution_count": null,
   "metadata": {},
   "outputs": [],
   "source": [
    "# Creating Class\n",
    "\n",
    "class User:\n",
    "    pass\n",
    "\n",
    "user_1 = User()\n",
    "# object   class"
   ]
  },
  {
   "cell_type": "code",
   "execution_count": null,
   "metadata": {},
   "outputs": [],
   "source": [
    "# Working with Attributes\n",
    "\n",
    "class User:\n",
    "    pass\n",
    "\n",
    "user_1 = User()\n",
    "\n",
    "# Adding Attributes (attributes are variables that object will have)\n",
    "user_1.id = \"001\"\n",
    "user_1.username = \"enes\"\n",
    "\n",
    "print(user_1.username)\n",
    "\n",
    "# Creating new abject\n",
    "user_2 = User()\n",
    "user_2.id = \"002\"\n",
    "user_2.username = \"emir\"\n",
    "\n",
    "print(user_2.id)\n",
    "\n",
    "# But the easiest way is initializing.\n",
    "# Initialize: to set (variables) to their starting vaules"
   ]
  },
  {
   "cell_type": "code",
   "execution_count": null,
   "metadata": {},
   "outputs": [],
   "source": [
    "# Class Constructors and the __init__() Function\n",
    "\n",
    "#  __init__() function is going to be triggered every time when new object created from class\n",
    "\n",
    "class User:\n",
    "\n",
    "    def __init__(self):\n",
    "        print(\"New user being created...\")\n",
    "\n",
    "user_1 = User()\n",
    "user_2 = User()\n",
    "\n",
    "class User2:\n",
    "\n",
    "    def __init__(self, user_id, username):\n",
    "        self.id = user_id\n",
    "        self.username = username\n",
    "        self.fallowers = 0\n",
    "\n",
    "user_1 = User2(\"001\", \"enes\")\n",
    "user_2 = User2(\"002\", \"emir\")\n",
    "print(user_1.id)\n",
    "print(user_1.fallowers)\n",
    "print(user_2.username)\n"
   ]
  },
  {
   "cell_type": "code",
   "execution_count": null,
   "metadata": {},
   "outputs": [],
   "source": [
    "# Adding Methods to a Class\n",
    "\n",
    "# Adding Methods (mothods are the things object does)\n",
    "\n",
    "class User:\n",
    "\n",
    "    def __init__(self, user_id, username):\n",
    "        self.id = user_id\n",
    "        self.username = username\n",
    "        self.followers = 0\n",
    "        self.following = 0\n",
    "\n",
    "    def follow(self, user):\n",
    "        user.followers += 1\n",
    "        self.following += 1\n",
    "\n",
    "user_1 = User(\"001\", \"enes\")\n",
    "user_2 = User(\"002\", \"emir\")\n",
    "\n",
    "print(f\"User 1 followers: {user_1.followers} | User 1 followings: {user_1.following}\")\n",
    "print(f\"User 2 followers: {user_2.followers} | User 2 followings: {user_2.following}\")\n",
    "\n",
    "user_1.follow(user_2)\n",
    "print(\"\\nUser 1 followed user 2\\n\")\n",
    "\n",
    "print(f\"User 1 followers: {user_1.followers} | User 1 followings: {user_1.following}\")\n",
    "print(f\"User 2 followers: {user_2.followers} | User 2 followings: {user_2.following}\")"
   ]
  }
 ],
 "metadata": {
  "kernelspec": {
   "display_name": "Python 3",
   "language": "python",
   "name": "python3"
  },
  "language_info": {
   "codemirror_mode": {
    "name": "ipython",
    "version": 3
   },
   "file_extension": ".py",
   "mimetype": "text/x-python",
   "name": "python",
   "nbconvert_exporter": "python",
   "pygments_lexer": "ipython3",
   "version": "3.11.3"
  },
  "orig_nbformat": 4
 },
 "nbformat": 4,
 "nbformat_minor": 2
}
