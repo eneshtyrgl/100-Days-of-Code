{
 "cells": [
  {
   "cell_type": "code",
   "execution_count": null,
   "metadata": {},
   "outputs": [],
   "source": [
    "from turtle import Turtle, Screen\n",
    "from time import sleep\n",
    "\n",
    "timmy = Turtle()\n",
    "print(timmy)\n",
    "timmy.shape('turtle')\n",
    "timmy.color('green')\n",
    "sleep(1)\n",
    "timmy.forward(100)\n",
    "\n",
    "my_screen = Screen()\n",
    "print(my_screen.canvheight)\n",
    "my_screen.exitonclick()"
   ]
  },
  {
   "cell_type": "code",
   "execution_count": 3,
   "metadata": {},
   "outputs": [],
   "source": [
    "from turtle import *\n",
    "color('red', 'yellow')\n",
    "begin_fill()\n",
    "while True:\n",
    "    forward(200)\n",
    "    left(170)\n",
    "    if abs(pos()) < 1:\n",
    "        break\n",
    "end_fill()\n",
    "done()"
   ]
  },
  {
   "cell_type": "code",
   "execution_count": 1,
   "metadata": {},
   "outputs": [
    {
     "name": "stdout",
     "output_type": "stream",
     "text": [
      "+------------------+--------------+\n",
      "|   Pokemon Name   |     Type     |\n",
      "+------------------+--------------+\n",
      "|   Pikachu        |   Electric   |\n",
      "|   Squirtle       |    Water     |\n",
      "|   Charmander     |     Fire     |\n",
      "|   Bulbasaur      |    Grass     |\n",
      "+------------------+--------------+\n"
     ]
    }
   ],
   "source": [
    "from prettytable import PrettyTable\n",
    "\n",
    "table = PrettyTable([\"Pokemon Name\", \"Type\"]) \n",
    "table.align[\"Pokemon Name\"] = \"l\" \n",
    "# Left align pokemon names \n",
    "table.padding_width = 3\n",
    "# One space between column edges and contents (default) \n",
    "table.add_row([\"Pikachu\", \"Electric\"]) \n",
    "table.add_row([\"Squirtle\", \"Water\"]) \n",
    "table.add_row([\"Charmander\", \"Fire\"]) \n",
    "table.add_row([\"Bulbasaur\", \"Grass\"]) \n",
    "\n",
    "print(table)\n"
   ]
  }
 ],
 "metadata": {
  "kernelspec": {
   "display_name": "Python 3",
   "language": "python",
   "name": "python3"
  },
  "language_info": {
   "codemirror_mode": {
    "name": "ipython",
    "version": 3
   },
   "file_extension": ".py",
   "mimetype": "text/x-python",
   "name": "python",
   "nbconvert_exporter": "python",
   "pygments_lexer": "ipython3",
   "version": "3.11.3"
  },
  "orig_nbformat": 4
 },
 "nbformat": 4,
 "nbformat_minor": 2
}
