{
 "cells": [
  {
   "cell_type": "code",
   "execution_count": null,
   "metadata": {},
   "outputs": [],
   "source": [
    "# Defining and Calling Python Functions\n",
    "\n",
    "def my_function():\n",
    "    print(\"Hello\")\n",
    "    print(\"World\")\n",
    "my_function()\n",
    "\n",
    "print(\"\\n\")\n",
    "\n",
    "def my_function(fname):\n",
    "  print(fname + \" İhtiyaroğlu\")\n",
    "\n",
    "my_function(\"Enes\")\n",
    "my_function(\"Emir\")\n",
    "\n",
    "print(\"\\n\")\n",
    "\n",
    "def my_function(fname, lname):\n",
    "  print(fname + \" \" + lname)\n",
    "\n",
    "my_function(\"Enes\", \"İhtiyaroğlu\")"
   ]
  },
  {
   "cell_type": "code",
   "execution_count": null,
   "metadata": {},
   "outputs": [],
   "source": [
    "# Indentation in Python\n",
    "\n",
    "def my_function():\n",
    "    a = 3\n",
    "    if a > 2:\n",
    "        print(\"a > 2\")\n",
    "my_function()"
   ]
  },
  {
   "cell_type": "code",
   "execution_count": null,
   "metadata": {},
   "outputs": [],
   "source": [
    "# While Loops\n",
    "\n",
    "a = 0\n",
    "\n",
    "while a <= 5:\n",
    "    print(a)\n",
    "    a += 1"
   ]
  }
 ],
 "metadata": {
  "kernelspec": {
   "display_name": "Python 3",
   "language": "python",
   "name": "python3"
  },
  "language_info": {
   "codemirror_mode": {
    "name": "ipython",
    "version": 3
   },
   "file_extension": ".py",
   "mimetype": "text/x-python",
   "name": "python",
   "nbconvert_exporter": "python",
   "pygments_lexer": "ipython3",
   "version": "3.10.10"
  },
  "orig_nbformat": 4,
  "vscode": {
   "interpreter": {
    "hash": "d9e7db5bfe829f4ef10f5b5e7dbc5a5f47b151262e34e8788062adee85c7b729"
   }
  }
 },
 "nbformat": 4,
 "nbformat_minor": 2
}
