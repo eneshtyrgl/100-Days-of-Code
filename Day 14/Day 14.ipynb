{
 "cells": [
  {
   "cell_type": "code",
   "execution_count": 8,
   "metadata": {},
   "outputs": [
    {
     "name": "stdout",
     "output_type": "stream",
     "text": [
      "Instagram\n",
      "346\n",
      "United States\n"
     ]
    }
   ],
   "source": [
    "data = [\n",
    "{\n",
    "    'name': 'Instagram',\n",
    "    'follower_count': 346,\n",
    "    'country': 'United States'\n",
    "},\n",
    "{\n",
    "    'name': 'Cristiano Ronaldo',\n",
    "    'follower_count': 215,\n",
    "    'country': 'Portugal'\n",
    "}\n",
    "]\n",
    "\n",
    "print(data[0]['name'])\n",
    "print(data[0]['follower_count'])\n",
    "print(data[0]['country'])\n"
   ]
  },
  {
   "cell_type": "code",
   "execution_count": 23,
   "metadata": {},
   "outputs": [
    {
     "name": "stdout",
     "output_type": "stream",
     "text": [
      "Virat Kohli\n"
     ]
    }
   ],
   "source": [
    "A = {'name': 'Virat Kohli', 'follower_count': 55, 'description': 'Cricketer', 'country': 'India'}\n",
    "print(A['name'])"
   ]
  },
  {
   "cell_type": "code",
   "execution_count": 22,
   "metadata": {},
   "outputs": [
    {
     "name": "stdout",
     "output_type": "stream",
     "text": [
      "[1]\n"
     ]
    }
   ],
   "source": [
    "list = [1, 2, 3]\n",
    "\n",
    "def pick():\n",
    "    data = list.pop(0)\n",
    "    return [data]\n",
    "\n",
    "A = pick()\n",
    "print(A)"
   ]
  }
 ],
 "metadata": {
  "kernelspec": {
   "display_name": "Python 3",
   "language": "python",
   "name": "python3"
  },
  "language_info": {
   "codemirror_mode": {
    "name": "ipython",
    "version": 3
   },
   "file_extension": ".py",
   "mimetype": "text/x-python",
   "name": "python",
   "nbconvert_exporter": "python",
   "pygments_lexer": "ipython3",
   "version": "3.11.2"
  },
  "orig_nbformat": 4
 },
 "nbformat": 4,
 "nbformat_minor": 2
}
