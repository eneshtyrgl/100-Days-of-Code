{
 "cells": [
  {
   "cell_type": "code",
   "execution_count": null,
   "metadata": {},
   "outputs": [],
   "source": [
    "# Useful VSCODE Shortcuts\n",
    "\n",
    "# Ctrl + Shift + L choose all variables together or Ctrl + H\n",
    "# Rename the variable F2\n",
    "# Debug file F5\n",
    "# For ecit multi lines together Alt + Click\n",
    "# Multiple Command Lines Ctrl + K and Ctrl + C   or   Alt + Shift + A (makes string)\n",
    "# Ctrl + Arrows for move and Alt + Arrows to go last places of code\n",
    "# Ctrl + Shift + P Command Palette\n",
    "# Ctrl + K and Ctrl + T for themes\n",
    "# Ctrl + K and M for select language\n",
    "# Ctrl + \" open Terminal\n",
    "# Shift + L open line numbers on Jupyter Notebook"
   ]
  },
  {
   "cell_type": "code",
   "execution_count": null,
   "metadata": {},
   "outputs": [],
   "source": [
    "# Printing 3 lines\n",
    "\n",
    "print(\"Hello world!\")\n",
    "print(\"Hello world!\")\n",
    "print(\"Hello world!\")\n",
    "\n",
    "print (\"Hello world!\\nHello world!\\nHello world!\")"
   ]
  },
  {
   "cell_type": "code",
   "execution_count": null,
   "metadata": {},
   "outputs": [],
   "source": [
    "# About space\n",
    "\n",
    "print (\"Hello\" + \"Enes\")\n",
    "\n",
    "print (\"Hello \" + \"Enes\")\n",
    "print (\"Hello\" + \" Enes\")\n",
    "print (\"Hello\" + \" \" + \"Enes\")"
   ]
  },
  {
   "cell_type": "code",
   "execution_count": null,
   "metadata": {},
   "outputs": [],
   "source": [
    "# Exercise: String manipulation debugging\n",
    "\n",
    "\"\"\"\"\n",
    "\n",
    "print(Day 1 - String Manipulation\")\n",
    "print(\"String Concatenation is done with the \"+\" sign.\")\n",
    "    print('e.g. print(\"Hello \" + \"world\")')\n",
    "print((\"New lines can be created with a backslash and n.\") \n",
    "\n",
    "\"\"\"\"\"\n",
    "\n",
    "# \" needed on first line\n",
    "# unexpected intent and missing \"  on third line\n",
    "# unexpected EOF means that the end of your source code was reached before all code blocks were completed. Just delete ( on fourth line\n",
    "# last there are missing \"+\" on second line. Change string sign with '\n",
    "\n",
    "print(\"Day 1 - String Manipulation\")\n",
    "print('String Concatenation is done with the \"+\" sign.')\n",
    "print('e.g. print(\"Hello \" + \"world\")')\n",
    "print(\"New lines can be created with a backslash and n.\") "
   ]
  },
  {
   "cell_type": "code",
   "execution_count": null,
   "metadata": {},
   "outputs": [],
   "source": [
    "# Getting user input\n",
    "\n",
    "print(\"Hello \" + input(\"What is your name?\")) "
   ]
  },
  {
   "cell_type": "code",
   "execution_count": null,
   "metadata": {},
   "outputs": [],
   "source": [
    "# Exercise: Write a program that prints the number of characters in a user's name\n",
    "\n",
    "print(len(input(\"What is your name? \")))\n",
    "\n",
    "# Getting the length of a string use len() function"
   ]
  },
  {
   "cell_type": "code",
   "execution_count": null,
   "metadata": {},
   "outputs": [],
   "source": [
    "# Veriables stores the datas\n",
    "\n",
    "my_veriable = \"This is data\"\n",
    "print(my_veriable + \"\\n\")\n",
    "\n",
    "name = input(\"What is your name?\")\n",
    "length = len(name)\n",
    "print(length)\n",
    "\n",
    "day, month, year = 11, \"March\", 2023\n",
    "print(day, month, year)"
   ]
  },
  {
   "cell_type": "code",
   "execution_count": null,
   "metadata": {},
   "outputs": [],
   "source": [
    "# Exercise: Write a program that switches the values stored in the variables a and b.\n",
    "\n",
    "# 🚨 Don't change the code below 👇\n",
    "a = input(\"a: \")\n",
    "b = input(\"b: \")\n",
    "# 🚨 Don't change the code above 👆\n",
    "\n",
    "####################################\n",
    "#Write your code below this line 👇\n",
    "\n",
    "c = a\n",
    "a = b\n",
    "b = c\n",
    "\n",
    "#Write your code above this line 👆\n",
    "####################################\n",
    "\n",
    "# 🚨 Don't change the code below 👇\n",
    "print(\"a: \" + a)\n",
    "print(\"b: \" + b)"
   ]
  },
  {
   "cell_type": "code",
   "execution_count": null,
   "metadata": {},
   "outputs": [],
   "source": [
    "# Project: Band Name Generator\n",
    "\n",
    "#1. Create a greeting for your program.\n",
    "print(\"Welcome to the Band Name Generator.\")\n",
    "#2. Ask the user for the city that they grew up in.\n",
    "city = input(\"What's the name of city you grew up in?\\n\")\n",
    "#3. Ask the user for the name of a pet.\n",
    "pet = input(\"What's your pet's name?\\n\")\n",
    "#4. Combine the name of their city and pet and show them their band name.\n",
    "print(\"Your band name could be \" + city + \" \" + pet)\n",
    "#5. Make sure the input cursor shows on a new line:\n",
    "\n",
    "# input('Press ENTER to exit')"
   ]
  }
 ],
 "metadata": {
  "kernelspec": {
   "display_name": "Python 3",
   "language": "python",
   "name": "python3"
  },
  "language_info": {
   "codemirror_mode": {
    "name": "ipython",
    "version": 3
   },
   "file_extension": ".py",
   "mimetype": "text/x-python",
   "name": "python",
   "nbconvert_exporter": "python",
   "pygments_lexer": "ipython3",
   "version": "3.11.5"
  },
  "orig_nbformat": 4,
  "vscode": {
   "interpreter": {
    "hash": "d9e7db5bfe829f4ef10f5b5e7dbc5a5f47b151262e34e8788062adee85c7b729"
   }
  }
 },
 "nbformat": 4,
 "nbformat_minor": 2
}
