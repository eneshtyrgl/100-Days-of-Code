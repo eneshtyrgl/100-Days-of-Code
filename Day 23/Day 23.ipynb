{
 "cells": [
  {
   "cell_type": "code",
   "execution_count": null,
   "metadata": {},
   "outputs": [],
   "source": [
    "# Turtle Crossing Start"
   ]
  },
  {
   "cell_type": "code",
   "execution_count": null,
   "metadata": {},
   "outputs": [],
   "source": [
    "# main.py\n",
    "\n",
    "import time\n",
    "from turtle import Screen\n",
    "from player import Player\n",
    "from car_manager import CarManager\n",
    "from scoreboard import Scoreboard\n",
    "\n",
    "screen = Screen()\n",
    "screen.setup(width=600, height=600)\n",
    "screen.tracer(0)\n",
    "\n",
    "game_is_on = True\n",
    "while game_is_on:\n",
    "    time.sleep(0.1)\n",
    "    screen.update()"
   ]
  },
  {
   "cell_type": "code",
   "execution_count": null,
   "metadata": {},
   "outputs": [],
   "source": [
    "# player.py\n",
    "\n",
    "STARTING_POSITION = (0, -280)\n",
    "MOVE_DISTANCE = 10\n",
    "FINISH_LINE_Y = 280\n",
    "\n",
    "\n",
    "class Player:\n",
    "    pass"
   ]
  },
  {
   "cell_type": "code",
   "execution_count": null,
   "metadata": {},
   "outputs": [],
   "source": [
    "# car_manager.py\n",
    "\n",
    "COLORS = [\"red\", \"orange\", \"yellow\", \"green\", \"blue\", \"purple\"]\n",
    "STARTING_MOVE_DISTANCE = 5\n",
    "MOVE_INCREMENT = 10\n",
    "\n",
    "\n",
    "class CarManager:\n",
    "    pass"
   ]
  },
  {
   "cell_type": "code",
   "execution_count": null,
   "metadata": {},
   "outputs": [],
   "source": [
    "# scoreboard.py\n",
    "\n",
    "FONT = (\"Courier\", 24, \"normal\")\n",
    "\n",
    "\n",
    "class Scoreboard:\n",
    "    pass"
   ]
  },
  {
   "cell_type": "code",
   "execution_count": null,
   "metadata": {},
   "outputs": [],
   "source": [
    "# Step 1 - Check out how the game play works\n",
    "\n",
    "# 1. A turtle moves forwards when you press the \"Up\" key. It can only move forwards, not back, left or right.\n",
    "\n",
    "# 2. Cars are randomly generated along the y-axis and will move from the right edge of the screen to the left edge.\n",
    "\n",
    "# 3. When the turtle hits the top edge of the screen, it moves back to the original position and the player levels up. On the next level, the car speed increases.\n",
    "\n",
    "# 4. When the turtle collides with a car, it's game over and everything stops."
   ]
  }
 ],
 "metadata": {
  "kernelspec": {
   "display_name": "Python 3",
   "language": "python",
   "name": "python3"
  },
  "language_info": {
   "name": "python",
   "version": "3.11.4"
  },
  "orig_nbformat": 4
 },
 "nbformat": 4,
 "nbformat_minor": 2
}
