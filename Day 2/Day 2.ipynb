{
 "cells": [
  {
   "cell_type": "code",
   "execution_count": null,
   "metadata": {},
   "outputs": [],
   "source": [
    "# Data Types\n",
    "\n",
    "    # Strings\n",
    "\n",
    "print(\"Hello\"[0])\n",
    "print(\"123\" + \"345\") \n",
    "name = \"Enes İhtiyaroğlu\"\n",
    "print(name[1] + name[3] + name[4])\n",
    "print(\"\\n\")\n",
    "\n",
    "    # Integer\n",
    "\n",
    "print(123 + 345)\n",
    "print(1_234 + 345)\n",
    "print(\"\\n\")\n",
    "\n",
    "    # Float\n",
    "\n",
    "print(1.234 + 3)\n",
    "print(1_000.123 + 3)\n",
    "print(\"\\n\")\n",
    "\n",
    "    # Boolean\n",
    "\n",
    "True\n",
    "False"
   ]
  },
  {
   "cell_type": "code",
   "execution_count": null,
   "metadata": {},
   "outputs": [],
   "source": [
    "# Type Error, Type Checking and Type Conversion\n",
    "\n",
    "    # num_char = len(input(\"What is your name?\"))\n",
    "    # print(\"Your name has \" + num_char + \" characters.\")\n",
    "\n",
    "num_char = len(input(\"What is your name?\"))\n",
    "new_num_char = str(num_char)\n",
    "print(\"Your name has \" + new_num_char + \" characters.\" + \"\\n\")\n",
    "\n",
    "print(type(str(123)))\n",
    "print(\"\\n\")\n",
    "\n",
    "print(70 + float(\"100.5\"))\n",
    "print(str(10) + str(10))\n",
    "\n"
   ]
  },
  {
   "cell_type": "code",
   "execution_count": null,
   "metadata": {},
   "outputs": [],
   "source": [
    "# Exercise: Write a program that adds the digits in a 2 digit number. e.g. if the input was 35, then the output should be 3 + 5 = 8# \n",
    "\n",
    "# 🚨 Don't change the code below 👇\n",
    "two_digit_number = input(\"Type a two digit number: \")\n",
    "# 🚨 Don't change the code above 👆\n",
    "\n",
    "####################################\n",
    "#Write your code below this line 👇\n",
    "\n",
    "first_digit = int(two_digit_number[0])\n",
    "second_digit = int(two_digit_number[1])\n",
    "\n",
    "print(first_digit + second_digit)\n",
    "\n",
    "\n",
    "#first_digit = two_digit_number[0]\n",
    "#second_digit = two_digit_number[1]\n",
    "#result = int(first_digit) + int(second_digit)\n",
    "#print(result)|\n",
    "\n"
   ]
  },
  {
   "cell_type": "code",
   "execution_count": null,
   "metadata": {},
   "outputs": [],
   "source": [
    "# Mathematical Operations in Python\n",
    "\n",
    "    # Addition 3 + 5 = 8\n",
    "    # Subtraction 7 - 4 = 3\n",
    "    # Multiplication 3 * 2 = 6\n",
    "    # Division 6 / 2 = 3\n",
    "    # Exponents 2 ** 3 = 8\n",
    "\n",
    "# Priority: PEMDASLR\n",
    "    # Parentheses ()\n",
    "    # Exponents **\n",
    "    # Multiplication *   # Division /    ❗ priority on left❗\n",
    "    # Addition +   # Subtraction -       ❗ priority on left❗  \n",
    "\n",
    "print(int(3 * 3 + 3 / 3 - 3)) \n",
    "print(int(3 * (3 + 3) / 3 - 3))"
   ]
  },
  {
   "cell_type": "code",
   "execution_count": null,
   "metadata": {},
   "outputs": [],
   "source": [
    "# Exercise: BMI (Body Mass Index) Calculator  \n",
    "# ❗Warning you should convert the result to a whole number❗\n",
    "\n",
    "# Formula:  BMI = Weight / Height ** 2\n",
    "\n",
    "# 🚨 Don't change the code below 👇\n",
    "height = input(\"enter your height in m: \")\n",
    "weight = input(\"enter your weight in kg: \")\n",
    "# 🚨 Don't change the code above 👆\n",
    "\n",
    "#Write your code below this line 👇\n",
    "\n",
    "bmi = float(weight) / float(height) ** 2\n",
    "bmi_as_int = int(bmi)\n",
    "print(bmi_as_int)\n"
   ]
  },
  {
   "cell_type": "code",
   "execution_count": null,
   "metadata": {},
   "outputs": [],
   "source": [
    "# Number Manipulation\n",
    "\n",
    "print(8 / 3)\n",
    "print(int(8 / 3))\n",
    "print(round(8 / 3))\n",
    "print(round(8 / 3, 2))\n",
    "print(\"\\n\")\n",
    "\n",
    "# Floor division //\n",
    "\n",
    "print(8 // 3)\n",
    "print(type(8 // 3))\n",
    "print(\"\\n\")\n",
    "\n",
    "# Continue calculation on variable\n",
    "\n",
    "result = 4 / 2\n",
    "result /= 2\n",
    "print(result)\n",
    "\n",
    "# For example score caltulating:\n",
    "score = 0\n",
    "score += 1 \n",
    "print(\"Your score is \" + str(score))  \n",
    "#or   score = score + 1\n",
    "print(\"\\n\")"
   ]
  },
  {
   "cell_type": "code",
   "execution_count": null,
   "metadata": {},
   "outputs": [],
   "source": [
    "# f-String\n",
    "\n",
    "score = 0\n",
    "score += 1 \n",
    "print(f\"Your score is {score}\")\n",
    "print(\"\\n\")\n",
    "\n",
    "name = input(\"What is your name?\")\n",
    "print(f\"Hello, {name}\")"
   ]
  },
  {
   "cell_type": "code",
   "execution_count": null,
   "metadata": {},
   "outputs": [],
   "source": [
    "# Exercise: Life in Weeks\n",
    "\n",
    "#Create a program using maths and f-Strings that tells us how many days, weeks, months we have left if we live until 90 years old.\n",
    "#It will take your current age as the input and output a message with our time left in this format: You have x days, y weeks, and z months left.\n",
    "#Where x, y and z are replaced with the actual calculated numbers.\n",
    "\n",
    "# ❗ Warning your output should match the Example Output format exactly, even the positions of the commas and full stops.❗\n",
    "\n",
    "# 🚨 Don't change the code below 👇\n",
    "age = input(\"What is your current age? \")\n",
    "# 🚨 Don't change the code above 👆\n",
    "\n",
    "#Write your code below this line 👇\n",
    "\n",
    "day = str(365 *(90 - int(age)))\n",
    "week = str(52 * (90 - int(age)))\n",
    "month = str(12 * (90 - int(age)))\n",
    "print(f\"You have {day} days, {week} weeks, and {month} months left.\")"
   ]
  },
  {
   "cell_type": "code",
   "execution_count": null,
   "metadata": {},
   "outputs": [],
   "source": [
    "# Project: Tip Calculator\n",
    "\n",
    "# If the bill was $150.00, split between 5 people, with 12% tip. \n",
    "\n",
    "# Each person should pay (150.00 / 5) * 1.12 = 33.6\n",
    "# Format the result to 2 decimal places = 33.60\n",
    "\n",
    "# Tip: There are 2 ways to round a number. You might have to do some Googling to solve this.💪\n",
    "\n",
    "# Write your code below this line 👇\n",
    "\n",
    "print(\"Welcome to the tip calculator!\")\n",
    "bill = float(input(\"What was the total bill? $\"))\n",
    "tip = int(input(\"What percentage tip would you like to give? 10, 12, or 15? %\"))\n",
    "people = int(input(\"How many people to split the bill? \"))\n",
    "result = ((bill + (bill * tip) / 100 ) / people)\n",
    "print(f\"Each person should pay: ${result}\")\n",
    "#print(f\"Each person should pay: ${format(result, '.2f')}\")"
   ]
  },
  {
   "cell_type": "code",
   "execution_count": 1,
   "metadata": {},
   "outputs": [
    {
     "name": "stdout",
     "output_type": "stream",
     "text": [
      "3.1416\n",
      "3.14159\n"
     ]
    }
   ],
   "source": [
    "# Format Function\n",
    "\n",
    "import math\n",
    "\n",
    "print(format(math.pi, '.5g'))  # give 5 significant digits\n",
    "\n",
    "\n",
    "print(format(math.pi, '.5f'))   # give 5 digits after the point"
   ]
  }
 ],
 "metadata": {
  "kernelspec": {
   "display_name": "Python 3",
   "language": "python",
   "name": "python3"
  },
  "language_info": {
   "codemirror_mode": {
    "name": "ipython",
    "version": 3
   },
   "file_extension": ".py",
   "mimetype": "text/x-python",
   "name": "python",
   "nbconvert_exporter": "python",
   "pygments_lexer": "ipython3",
   "version": "3.11.4"
  },
  "orig_nbformat": 4,
  "vscode": {
   "interpreter": {
    "hash": "d9e7db5bfe829f4ef10f5b5e7dbc5a5f47b151262e34e8788062adee85c7b729"
   }
  }
 },
 "nbformat": 4,
 "nbformat_minor": 2
}
