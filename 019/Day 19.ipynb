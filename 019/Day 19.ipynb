{
 "cells": [
  {
   "cell_type": "code",
   "execution_count": null,
   "metadata": {},
   "outputs": [],
   "source": [
    "# Functions as Inputs\n",
    "\n",
    "from turtle import Turtle, Screen\n",
    "\n",
    "my_object = Turtle()\n",
    "screen = Screen()\n",
    " \n",
    "def move_forwards():\n",
    "    my_object.forward(10)\n",
    "\n",
    "screen.listen()  # Event listener\n",
    "screen.onkey(key=\"space\", fun=move_forwards)  # Use function inside the other function as a name\n",
    "screen.exitonclick()"
   ]
  },
  {
   "cell_type": "code",
   "execution_count": null,
   "metadata": {},
   "outputs": [],
   "source": [
    "# High Order Functions\n",
    "\n",
    "def add(n1, n2):\n",
    "    return n1 + n2\n",
    "\n",
    "def subtract(n1, n2):\n",
    "    return n1 - n2\n",
    "\n",
    "def multiply(n1, n2):\n",
    "    return n1 * n2\n",
    "\n",
    "def devide(n1, n2):\n",
    "    return n1 / n2\n",
    "\n",
    "def calculator(n1, n2, func):  # High Order Function because it's take another function as a input \n",
    "    return func(n1, n2)\n",
    "\n",
    "result = calculator(2, 3, multiply)\n",
    "print(result)"
   ]
  }
 ],
 "metadata": {
  "kernelspec": {
   "display_name": "Python 3",
   "language": "python",
   "name": "python3"
  },
  "language_info": {
   "codemirror_mode": {
    "name": "ipython",
    "version": 3
   },
   "file_extension": ".py",
   "mimetype": "text/x-python",
   "name": "python",
   "nbconvert_exporter": "python",
   "pygments_lexer": "ipython3",
   "version": "3.11.3"
  },
  "orig_nbformat": 4
 },
 "nbformat": 4,
 "nbformat_minor": 2
}
